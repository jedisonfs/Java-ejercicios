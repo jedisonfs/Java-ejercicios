{
  "nbformat": 4,
  "nbformat_minor": 0,
  "metadata": {
    "colab": {
      "provenance": [],
      "toc_visible": true,
      "include_colab_link": true
    },
    "kernelspec": {
      "name": "python3",
      "display_name": "Python 3"
    },
    "language_info": {
      "name": "python"
    }
  },
  "cells": [
    {
      "cell_type": "markdown",
      "metadata": {
        "id": "view-in-github",
        "colab_type": "text"
      },
      "source": [
        "<a href=\"https://colab.research.google.com/github/jedisonfs/Java-ejercicios/blob/develop/EjemplosDistribucionesUNIR.ipynb\" target=\"_parent\"><img src=\"https://colab.research.google.com/assets/colab-badge.svg\" alt=\"Open In Colab\"/></a>"
      ]
    },
    {
      "cell_type": "markdown",
      "source": [
        "#Distribucions de probabilidad\n",
        "David Bacca \n",
        "\n",
        "Al trabajar con funciones de distrubución de probabilidad en Python es necesario considerar las siguientes funciones:\n",
        "\n",
        "* `cdf(y)`: Función de distribución acumulada $F(y)$.\n",
        "\n",
        "* `sf(y)` = 1 - `cdf(y)` Función de sobrevivencia $S(y)$.\n",
        "\n",
        "* `pmf(y)`: Función de probabilidad $f(y)$ (distribuciones discretas).\n",
        "\n",
        "* `pdf(y)`: Función de densidad de probabilidad $f(y)$ (distribuciones continuas).\n",
        "\n",
        "* `ppf(y)`: Función inversa a `cdf(y)`. Nos permite obtener el valor correspondiente a una probabilidad (percentiles)."
      ],
      "metadata": {
        "id": "CEc9F_TLdxdB"
      }
    },
    {
      "cell_type": "code",
      "source": [
        "import numpy as np\n",
        "import matplotlib.pyplot as plt\n",
        "import scipy.stats as ss"
      ],
      "metadata": {
        "id": "LX-JyeNgdsP0"
      },
      "execution_count": 14,
      "outputs": []
    },
    {
      "cell_type": "markdown",
      "source": [
        "### **Distribución de probabilidad binomial**\n",
        "\n",
        "Un **experimento binomial** presenta las siguientes propiedades:\n",
        "\n",
        " 1. Consiste en un número fijo, $n$, de pruebas idénticas.\n",
        " 2. Cada prueba resulta en uno de dos resultados: éxito, $S$, o fracaso, $F$.\n",
        " 3. La probabilidad de éxito en una sola prueba es igual a algún valor $p$ y es el mismo de una prueba a la otra. La probabilidad de fracaso es igual a $q = (1 – p)$.\n",
        " 4. Las pruebas son independientes.\n",
        " 5. La variable aleatoria de interés es $Y$, el número de éxitos observado durante las $n$ pruebas\n",
        "\n",
        "Se dice que una variable aleatoria $Y$ tiene una distribución binomial basada en $n$ pruebas con probabilidad $p$ de éxito si y sólo si\n",
        "$$\n",
        "f(y)=\\binom{n}{y}p^y(1-p)^{n-y}, \\quad y=0,1,2,...,n \\text{ y } 0 \\le p \\le 1\n",
        "$$\n",
        "\n",
        "**Valor esperado y varianza**\n",
        "\n",
        "Sea $Y$ una variable aleatoria binomial basada en $n$ pruebas y probabilidad $p$ de éxito, entonces\n",
        "\n",
        "$$\\mu=E(Y)=np \\quad\\text{ y }\\quad \\sigma^2=V(Y)=np(1-p)$$\n",
        "\n",
        "\n"
      ],
      "metadata": {
        "id": "1hY1OHjO4ZBM"
      }
    },
    {
      "cell_type": "markdown",
      "source": [
        "#### **Ejemplo 1 (binom)**\n",
        "Suponga que un lote de 5000 fusibles eléctricos contiene 5% de piezas defectuosas. Si se prueba una muestra de 5 fusibles, encuentre la probabilidad de hallar al menos uno defectuoso.\n",
        "\n",
        "**Solución**\n",
        "\n",
        "Si $Y$ es el número de fusibles defectuosos (éxitos), dados los valores $p=0.05$ y $n=5$, la pregunta es $P(Y \\ge 1)$:\n",
        "\n",
        "$$P(Y \\ge 1)=1-f(0)=1-0.774=0.226$$"
      ],
      "metadata": {
        "id": "haQjGfaweEaE"
      }
    },
    {
      "cell_type": "code",
      "source": [
        "# p=0.05, n=5, P(Y>=1)\n",
        "n , p = 5, 0.05\n",
        "Y = ss.binom(n, p)\n",
        "#A continuación se calcula 1-f(0)\n",
        "\n",
        "round(1 - Y.pmf(0), 4)"
      ],
      "metadata": {
        "colab": {
          "base_uri": "https://localhost:8080/"
        },
        "id": "Ek8eGK97fLhU",
        "outputId": "b8578594-1914-4f25-bff8-c6ad01378c87"
      },
      "execution_count": null,
      "outputs": [
        {
          "output_type": "execute_result",
          "data": {
            "text/plain": [
              "0.2262"
            ]
          },
          "metadata": {},
          "execution_count": 82
        }
      ]
    },
    {
      "cell_type": "code",
      "source": [
        "#Gráfica de la distribución \n",
        "y = np.arange(n+1)\n",
        "y"
      ],
      "metadata": {
        "colab": {
          "base_uri": "https://localhost:8080/"
        },
        "id": "3U52yFV1fyZn",
        "outputId": "e5ef99cd-0a55-497b-e06d-ba506d3fc2ca"
      },
      "execution_count": null,
      "outputs": [
        {
          "output_type": "execute_result",
          "data": {
            "text/plain": [
              "array([0, 1, 2, 3, 4, 5])"
            ]
          },
          "metadata": {},
          "execution_count": 86
        }
      ]
    },
    {
      "cell_type": "code",
      "source": [
        "#se guardan las probabilidades en f\n",
        "f = Y.pmf(y)\n",
        "f"
      ],
      "metadata": {
        "colab": {
          "base_uri": "https://localhost:8080/"
        },
        "id": "0iJdEy-5gVY8",
        "outputId": "4f62c9cf-601f-4ad8-893c-cd1e99659f61"
      },
      "execution_count": null,
      "outputs": [
        {
          "output_type": "execute_result",
          "data": {
            "text/plain": [
              "array([7.73780937e-01, 2.03626563e-01, 2.14343750e-02, 1.12812500e-03,\n",
              "       2.96875000e-05, 3.12500000e-07])"
            ]
          },
          "metadata": {},
          "execution_count": 84
        }
      ]
    },
    {
      "cell_type": "code",
      "source": [
        "#Grafica la distribución binomial para el caso de 5 ensayos con probabilidad de éxito 0.05\n",
        "plt.plot(y,f,\"bo\")\n",
        "plt.vlines(y,0,f,\"b\")\n",
        "plt.show()"
      ],
      "metadata": {
        "colab": {
          "base_uri": "https://localhost:8080/",
          "height": 266
        },
        "id": "HbEYJJoWgxD_",
        "outputId": "68601ccc-0626-455a-fe25-1c4342370214"
      },
      "execution_count": null,
      "outputs": [
        {
          "output_type": "display_data",
          "data": {
            "text/plain": [
              "<Figure size 432x288 with 1 Axes>"
            ],
            "image/png": "[encoded data removed]"
          },
          "metadata": {
            "needs_background": "light"
          }
        }
      ]
    },
    {
      "cell_type": "code",
      "source": [
        "#cdf(y): función de probabilidad acumulada\n",
        "#crea un arreglo con las funciones de probabildiad acumuladas F(x)\n",
        "F = Y.cdf(y)\n",
        "F"
      ],
      "metadata": {
        "colab": {
          "base_uri": "https://localhost:8080/"
        },
        "id": "37fSNs6jg8uV",
        "outputId": "df713720-eb1b-400b-b60f-81e901a962c7"
      },
      "execution_count": null,
      "outputs": [
        {
          "output_type": "execute_result",
          "data": {
            "text/plain": [
              "array([0.77378094, 0.9774075 , 0.99884187, 0.99997   , 0.99999969,\n",
              "       1.        ])"
            ]
          },
          "metadata": {},
          "execution_count": 13
        }
      ]
    },
    {
      "cell_type": "code",
      "source": [
        "#Grafica de las probabilidades cumuladas\n",
        "plt.step(y,F,\"r\")\n",
        "plt.show()"
      ],
      "metadata": {
        "colab": {
          "base_uri": "https://localhost:8080/",
          "height": 265
        },
        "id": "tOa97WeXhITm",
        "outputId": "84154f3e-4d6f-4a83-d5ac-ae774cfcb3f2"
      },
      "execution_count": null,
      "outputs": [
        {
          "output_type": "display_data",
          "data": {
            "text/plain": [
              "<Figure size 432x288 with 1 Axes>"
            ],
            "image/png": "[encoded data removed]"
          },
          "metadata": {
            "needs_background": "light"
          }
        }
      ]
    },
    {
      "cell_type": "markdown",
      "source": [
        "#### **Ejemplo 2 (binom)**\n",
        "\n",
        "La experiencia ha demostrado que 30% de todas las personas afectadas por cierta enfermedad se recuperan. Una empresa fabricante de medicamentos ha inventado una nueva medicina. Diez personas con la enfermedad se seleccionaron al azar y recibieron la medicina; nueve se recuperaron al poco tiempo. Suponga que la medicina no es eficaz en absoluto. ¿Cuál es la probabilidad de que se recuperen al menos nueve de entre diez que recibieron la medicina?\n",
        "\n",
        "**Solución**\n",
        "\n",
        "Denotamos $Y$ como el número de personas que se recuperan. Si no funciona la medician, etnonces la probabilidad de que una persona se recupere es $p=0.3$. EL número de esayos son $n=10$ y la pregunta es $P(Y\\ge 9)$:\n",
        "\n",
        "$$P(Y \\ge 9)=1-F(8)=0.000144$$\n",
        "$$P(Y \\ge 9)=f(9)+f(10)=0.000144$$\n"
      ],
      "metadata": {
        "id": "RXSxB-t4eHmx"
      }
    },
    {
      "cell_type": "code",
      "source": [
        "# P(Y>=9)\n",
        "n, p = 10, 0.3\n",
        "Y = ss.binom(n, p)\n",
        "\n",
        "# 1 - Y.cdf(8)\n",
        "Y.pmf(9) + Y.pmf(10)\n",
        "\n",
        "#F(y) = Y.cdf(y)\n",
        "#f(y) = Y.pmf(y)"
      ],
      "metadata": {
        "colab": {
          "base_uri": "https://localhost:8080/"
        },
        "id": "zKnqk-y2hObh",
        "outputId": "79a6d18a-59a8-49d2-dc2e-b2b7904630af"
      },
      "execution_count": null,
      "outputs": [
        {
          "output_type": "execute_result",
          "data": {
            "text/plain": [
              "0.00014368589999999988"
            ]
          },
          "metadata": {},
          "execution_count": 91
        }
      ]
    },
    {
      "cell_type": "code",
      "source": [
        "#Gráfica de la distribución \n",
        "y = np.arange(n+1)\n",
        "f = Y.pmf(y)\n",
        "plt.plot(y,f,\"bo\")\n",
        "plt.vlines(y,0,f,\"b\")\n",
        "plt.show()"
      ],
      "metadata": {
        "colab": {
          "base_uri": "https://localhost:8080/",
          "height": 265
        },
        "id": "iBqScO8ILB1e",
        "outputId": "70997e5d-1030-4ca8-ee52-0862e59e021c"
      },
      "execution_count": null,
      "outputs": [
        {
          "output_type": "display_data",
          "data": {
            "text/plain": [
              "<Figure size 432x288 with 1 Axes>"
            ],
            "image/png": "[encoded data removed]"
          },
          "metadata": {
            "needs_background": "light"
          }
        }
      ]
    },
    {
      "cell_type": "code",
      "source": [
        "print(n*p)\n",
        "print(n*p*(1-p))\n",
        "print(np.sqrt(n*p*(1-p)))"
      ],
      "metadata": {
        "colab": {
          "base_uri": "https://localhost:8080/"
        },
        "id": "aQCOx-JmLqev",
        "outputId": "a702f3db-cc73-4985-ae2a-4665262d951b"
      },
      "execution_count": null,
      "outputs": [
        {
          "output_type": "stream",
          "name": "stdout",
          "text": [
            "3.0\n",
            "2.0999999999999996\n",
            "1.4491376746189437\n"
          ]
        }
      ]
    },
    {
      "cell_type": "markdown",
      "source": [
        "#### **Ejemplo 3 (binom)**\n",
        "\n",
        "Suponga que un lote de 5000 fusibles eléctricos contiene 5% de piezas defectuosas. Si $n=20$ fusibles, encuentre la probabilidad de que se\n",
        "observen al menos cuatro defectuosos.\n",
        "\n",
        "**Solución**\n",
        "\n",
        "Si se denota con $Y$ el número de defectuosos de la muestra, suponemos el modelo binomial para $Y$, con $p = 0.05$ y $n=20$, entonces la pregunta es $P(Y\\ge 4)$:\n",
        "\n",
        "$$P(Y \\ge 4)=1-F(3)=1-0.984=0.016$$\n",
        "$$P(Y \\ge 4)=f(4)+f(5)+...+f(20)=0.016$$"
      ],
      "metadata": {
        "id": "Dofcc_naeLwE"
      }
    },
    {
      "cell_type": "code",
      "source": [
        "#P(Y>=4)\n",
        "n = 20\n",
        "p = 0.05\n",
        "\n",
        "Y = ss.binom(n, p)\n",
        "1 - Y.cdf(3)"
      ],
      "metadata": {
        "colab": {
          "base_uri": "https://localhost:8080/"
        },
        "id": "TstFQc84iD3V",
        "outputId": "bc9fee37-ca6b-420a-bfee-a5b8053cf2f8"
      },
      "execution_count": null,
      "outputs": [
        {
          "output_type": "execute_result",
          "data": {
            "text/plain": [
              "0.016"
            ]
          },
          "metadata": {},
          "execution_count": 98
        }
      ]
    },
    {
      "cell_type": "markdown",
      "source": [
        "### **Distribución de probabilidad de Poisson**\n",
        "Se dice que una variable aleatoria $Y$ tiene distribución de probabilidad de Poisson si y sólo si\n",
        "\n",
        "$$f(y)=\\frac{\\lambda^y}{y!}e^{-\\lambda}$$\n",
        "\n",
        "\n",
        "\n",
        "\n",
        "\n",
        "**Valor esperado y varianza**\n",
        "\n",
        "Si $Y$ es una variable aleatoria que posee una distribución de Poisson con parámetro $\\lambda$, entonces\n",
        "\n",
        "$$\\mu=E(Y)=\\lambda \\quad \\text{y} \\quad \\sigma^2=V(Y)=\\lambda$$\n",
        "\n"
      ],
      "metadata": {
        "id": "xyPVV74t_QAN"
      }
    },
    {
      "cell_type": "markdown",
      "source": [
        "#### **Ejemplo 1 (poisson)**\n",
        "\n",
        "Suponga que se diseña un sistema aleatorio de patrulla de policía para que un oficial de patrulla pueda estar en un lugar de su ruta $Y = 0, 1, 2, 3, . . .$ veces por periodo de media hora, con cada lugar visitado un promedio de una vez por periodo. Suponga que $Y$ posee, aproximadamente, una distribución de probabilidad de Poisson. Calcule la probabilidad de que el oficial de patrulla no llegue a un lugar determinado durante un periodo de media hora. ¿Cuál es la\n",
        "probabilidad de que el lugar sea visitado una vez? ¿Dos veces? ¿Al menos una vez?\n",
        "\n",
        "**Solución**\n",
        "\n",
        "El periodo es media hora y el número medio de visitas por intervalo de media hora es $\\lambda = 1$ visita/mediaHora.\n",
        "\n",
        "* La probabilidad de que el oficial de patrulla no llegue a un lugar determinado durante un periodo de media hora es\n",
        "$$P(Y=0)=f(0)=0.368$$\n",
        "\n",
        "* La probabilidad de que el lugar sea visitado una vez es\n",
        "\n",
        "$$P(Y=1)=f(1)=0.368$$\n",
        "\n",
        "* La probabilidad de que el lugar sea visitado dos veces es\n",
        "\n",
        "$$P(Y=2)=f(2)=0.184$$\n",
        "\n",
        "* La probabilidad de que el lugar sea visitado al menos una vez es\n",
        "\n",
        "$$P(Y \\ge 1)=1-f(0)=0.632$$"
      ],
      "metadata": {
        "id": "IPRym_69ejU9"
      }
    },
    {
      "cell_type": "code",
      "source": [
        "#P(Y=0), lambda=1\n",
        "media = 1\n",
        "Y = ss.poisson(media)\n",
        "Y.pmf(0)\n",
        "#f(y)=Y.pmf(y)"
      ],
      "metadata": {
        "colab": {
          "base_uri": "https://localhost:8080/"
        },
        "id": "WqeesRgCi4Dc",
        "outputId": "f1e3a4ea-6cee-4a95-91d8-134ca6073a66"
      },
      "execution_count": null,
      "outputs": [
        {
          "output_type": "execute_result",
          "data": {
            "text/plain": [
              "0.36787944117144233"
            ]
          },
          "metadata": {},
          "execution_count": 99
        }
      ]
    },
    {
      "cell_type": "code",
      "source": [
        "#P(Y=1), lambda=1\n",
        "media = 1\n",
        "Y = ss.poisson(media)\n",
        "Y.pmf(1)"
      ],
      "metadata": {
        "colab": {
          "base_uri": "https://localhost:8080/"
        },
        "id": "gWElgiJJkBmM",
        "outputId": "c7d61cd6-1bda-4fd1-9ee1-bc38606af9be"
      },
      "execution_count": null,
      "outputs": [
        {
          "output_type": "execute_result",
          "data": {
            "text/plain": [
              "0.36787944117144233"
            ]
          },
          "metadata": {},
          "execution_count": 100
        }
      ]
    },
    {
      "cell_type": "code",
      "source": [
        "#P(Y=2), lambda=1\n",
        "media = 1\n",
        "Y = ss.poisson(media)\n",
        "Y.pmf(2)"
      ],
      "metadata": {
        "colab": {
          "base_uri": "https://localhost:8080/"
        },
        "id": "84FITul8kG4e",
        "outputId": "5d0b5c5f-72ae-4b76-f252-a0c4e0427452"
      },
      "execution_count": null,
      "outputs": [
        {
          "output_type": "execute_result",
          "data": {
            "text/plain": [
              "0.18393972058572114"
            ]
          },
          "metadata": {},
          "execution_count": 101
        }
      ]
    },
    {
      "cell_type": "code",
      "source": [
        "#P(Y>=1), lambda=1\n",
        "media = 1\n",
        "Y = ss.poisson(media)\n",
        "#1-Y.pmf(0)\n",
        "1-Y.cdf(0)\n"
      ],
      "metadata": {
        "colab": {
          "base_uri": "https://localhost:8080/"
        },
        "id": "C-wsn-BKkJsJ",
        "outputId": "73396a8a-579c-4c7d-df71-4b8b7ae68c6f"
      },
      "execution_count": null,
      "outputs": [
        {
          "output_type": "execute_result",
          "data": {
            "text/plain": [
              "0.6321205588285576"
            ]
          },
          "metadata": {},
          "execution_count": 104
        }
      ]
    },
    {
      "cell_type": "code",
      "source": [
        "# Ejemplo: lambda=1\n",
        "media = 1\n",
        "Y = ss.poisson(media)\n",
        "\n",
        "#Función masa de probabilidad\n",
        "#crea arreglo de números del 0 al 30\n",
        "y = np.arange(10)\n",
        "#asigna las probabilidades del para los elementos x, es decir, f(x)\n",
        "f = Y.pmf(y)\n",
        "plt.plot(y,f,\"bo\")\n",
        "plt.vlines(y,0,f,\"b\")\n",
        "plt.show()\n"
      ],
      "metadata": {
        "colab": {
          "base_uri": "https://localhost:8080/",
          "height": 265
        },
        "id": "1HhZyKtXkYw9",
        "outputId": "055deeb5-8f57-4117-8584-cc583502977b"
      },
      "execution_count": null,
      "outputs": [
        {
          "output_type": "display_data",
          "data": {
            "text/plain": [
              "<Figure size 432x288 with 1 Axes>"
            ],
            "image/png": "[encoded data removed]"
          },
          "metadata": {
            "needs_background": "light"
          }
        }
      ]
    },
    {
      "cell_type": "markdown",
      "source": [
        "#### **Ejemplo 2 (poisson)\n",
        "**\n",
        "\n",
        "Cierto tipo de árbol tiene plantas que han crecido de semillas dispersas al azar en una superficie grande, con la densidad media de plantas siendo aproximadamente de cinco por yarda cuadrada. Si en esa zona un guardabosques localiza al azar diez regiones de muestreo de 1 yarda cuadrada, encuentre la probabilidad de que ninguna de las regiones contenga plantas que hayan crecido de semillas.\n",
        "\n",
        "**Solución**\n",
        "\n",
        "$Y$ se puede modelar como una variable aleatoria de Poisson con $\\lambda = 5$. Como se pide la probabilidad de que $Y=0$ plantas en un área de 10 yardas, se debe recalcular la media: \n",
        "\n",
        "$$\\lambda = 5 \\text{ plantas/yarda} = 50 \\text{ plantas/10yarda}$$\n",
        "\n",
        "Entonces,\n",
        "\n",
        "$P(Y=0)=f(0)=1.93\\times 10^{-22}$"
      ],
      "metadata": {
        "id": "pTvfXV_3en48"
      }
    },
    {
      "cell_type": "code",
      "source": [
        "#P(Y=0)\n",
        "media = 50\n",
        "Y = ss.poisson(media)\n",
        "Y.pmf(0)\n",
        "\n",
        "#f(y) = Y.pmf(y)\n",
        "#F(y) = Y.cdf(y)"
      ],
      "metadata": {
        "colab": {
          "base_uri": "https://localhost:8080/"
        },
        "id": "QKAKaJbzleAW",
        "outputId": "de2dda1a-91d9-462c-dc8d-7495a005e8a9"
      },
      "execution_count": null,
      "outputs": [
        {
          "output_type": "execute_result",
          "data": {
            "text/plain": [
              "1.9287498479639178e-22"
            ]
          },
          "metadata": {},
          "execution_count": 45
        }
      ]
    },
    {
      "cell_type": "code",
      "source": [
        "# Ejemplo: lambda=50\n",
        "media = 50\n",
        "Y = ss.poisson(media)\n",
        "\n",
        "#Función masa de probabilidad\n",
        "#crea arreglo de números del 0 al 30\n",
        "y = np.arange(100)\n",
        "#asigna las probabilidades del para los elementos x, es decir, f(x)\n",
        "f = Y.pmf(y)\n",
        "plt.plot(y,f,\"bo\")\n",
        "plt.vlines(y,0,f,\"b\")\n",
        "plt.show()"
      ],
      "metadata": {
        "colab": {
          "base_uri": "https://localhost:8080/",
          "height": 265
        },
        "id": "CB-Olldsl_Dg",
        "outputId": "83d3fee5-5b5b-4bea-8ee7-53bca6c4aa64"
      },
      "execution_count": null,
      "outputs": [
        {
          "output_type": "display_data",
          "data": {
            "text/plain": [
              "<Figure size 432x288 with 1 Axes>"
            ],
            "image/png": "[encoded data removed]"
          },
          "metadata": {
            "needs_background": "light"
          }
        }
      ]
    },
    {
      "cell_type": "markdown",
      "source": [
        "#### **Ejemplo 3 (poisson)**\n",
        "\n",
        "Ocurren accidentes industriales de acuerdo con un proceso Poisson con un promedio de tres accidentes por mes. Durante los últimos dos meses ocurrieron diez accidentes. ¿Este número parece altamente improbable si el número medio de accidentes por mes, $\\mu$, es todavía igual a 3? ¿Indica un aumento en el número medio de accidentes por mes?\n",
        "\n",
        "**Solución**\n",
        "\n",
        "El número de accidentes en dos meses, $Y$, tiene una distribución de probabilidad de Poisson con media $\\lambda = 2(3) = 6$. La probabilidad de que $Y$ sea mayor o igual a 10 es\n",
        "\n",
        "$$P(Y\\ge 10) = 1 - F(9)= 0.0839$$"
      ],
      "metadata": {
        "id": "XKCdv8zoerhu"
      }
    },
    {
      "cell_type": "code",
      "source": [
        "#P(Y>=10)\n",
        "media = 6\n",
        "Y = ss.poisson(media)\n",
        "1 - Y.cdf(9)\n",
        "\n",
        "#f(y) = Y.pmf(y)\n",
        "#F(y) = Y.cdf(y)"
      ],
      "metadata": {
        "colab": {
          "base_uri": "https://localhost:8080/",
          "height": 235
        },
        "id": "ZU2q9PRBmFzB",
        "outputId": "c8bfb053-91ea-4e34-92e4-23a72fb99049"
      },
      "execution_count": 11,
      "outputs": [
        {
          "output_type": "error",
          "ename": "NameError",
          "evalue": "ignored",
          "traceback": [
            "\u001b[0;31m---------------------------------------------------------------------------\u001b[0m",
            "\u001b[0;31mNameError\u001b[0m                                 Traceback (most recent call last)",
            "\u001b[0;32m<ipython-input-11-d47749d4a9b6>\u001b[0m in \u001b[0;36m<cell line: 3>\u001b[0;34m()\u001b[0m\n\u001b[1;32m      1\u001b[0m \u001b[0;31m#P(Y>=10)\u001b[0m\u001b[0;34m\u001b[0m\u001b[0;34m\u001b[0m\u001b[0m\n\u001b[1;32m      2\u001b[0m \u001b[0mmedia\u001b[0m \u001b[0;34m=\u001b[0m \u001b[0;36m6\u001b[0m\u001b[0;34m\u001b[0m\u001b[0;34m\u001b[0m\u001b[0m\n\u001b[0;32m----> 3\u001b[0;31m \u001b[0mY\u001b[0m \u001b[0;34m=\u001b[0m \u001b[0mss\u001b[0m\u001b[0;34m.\u001b[0m\u001b[0mpoisson\u001b[0m\u001b[0;34m(\u001b[0m\u001b[0mmedia\u001b[0m\u001b[0;34m)\u001b[0m\u001b[0;34m\u001b[0m\u001b[0;34m\u001b[0m\u001b[0m\n\u001b[0m\u001b[1;32m      4\u001b[0m \u001b[0;36m1\u001b[0m \u001b[0;34m-\u001b[0m \u001b[0mY\u001b[0m\u001b[0;34m.\u001b[0m\u001b[0mcdf\u001b[0m\u001b[0;34m(\u001b[0m\u001b[0;36m9\u001b[0m\u001b[0;34m)\u001b[0m\u001b[0;34m\u001b[0m\u001b[0;34m\u001b[0m\u001b[0m\n\u001b[1;32m      5\u001b[0m \u001b[0;34m\u001b[0m\u001b[0m\n",
            "\u001b[0;31mNameError\u001b[0m: name 'ss' is not defined"
          ]
        }
      ]
    },
    {
      "cell_type": "markdown",
      "source": [
        "### **Distribución de probabilidad normal**\n",
        "\n",
        "Se dice que una variable $Y$ tiene una **distribución normal de probabilidad** si y sólo si, para $\\sigma > 0$ y $–\\infty < \\mu < \\infty$, la función de densidad de $Y$ es\n",
        "\n",
        "$$f(y)=\\frac{1}{\\sigma \\sqrt{2\\pi}}e^{-(y-\\mu)^2/(2\\sigma^2)}, \\quad –\\infty < y < \\infty$$\n",
        "\n",
        "Si $Y$ es una variable aleatoria normalmente distribuida con parámetros $\\mu$ y $\\sigma$, entonces\n",
        "\n",
        "$$E(Y)=\\mu \\quad \\text{y} \\quad V(Y)=\\sigma^2$$\n",
        "\n"
      ],
      "metadata": {
        "id": "wxTyyAgrI5WL"
      }
    },
    {
      "cell_type": "markdown",
      "source": [
        "####**Ejemplo 1 (norm)**\n",
        "\n",
        "Denote con $Z$ una variable aleatoria normal con media 0 y desviación estándar 1.\n",
        "\n",
        "1. Encuentre $P(Z>2)$.\n",
        "2. Encuentre $P(-2\\le Z \\le 2)$.\n",
        "3. Encuentre $P(0\\le Z \\le 1.73)$.\n",
        "\n",
        "**Solución**\n",
        "\n",
        "1. $P(Z>2) = 1 - F(2) = 0.0228$.\n",
        "2. $P(-2\\le Z \\le 2) = F(2) - F(-2) = 0.9545$.\n",
        "3. $P(0\\le Z \\le 1.73) = F(1.73) - F(0) = 0.4582$."
      ],
      "metadata": {
        "id": "Q31D9-cQe6u6"
      }
    },
    {
      "cell_type": "code",
      "source": [
        "#P(Z>2)\n",
        "Y = ss.norm(0, 1)\n",
        "1 - Y.cdf(2)"
      ],
      "metadata": {
        "colab": {
          "base_uri": "https://localhost:8080/"
        },
        "id": "UoqWMRovmmR6",
        "outputId": "fb392374-4233-4eb7-bba4-4a846feb4edd"
      },
      "execution_count": 16,
      "outputs": [
        {
          "output_type": "execute_result",
          "data": {
            "text/plain": [
              "0.02275013194817921"
            ]
          },
          "metadata": {},
          "execution_count": 16
        }
      ]
    },
    {
      "cell_type": "code",
      "source": [
        "mu = 0\n",
        "sigma = 1\n",
        "\n",
        "y1 = 2\n",
        "y2 = mu + 3.5*sigma\n",
        "\n",
        "Y = ss.norm(mu, sigma)\n",
        "y = np.linspace(mu - 3.5*sigma, mu + 3.5*sigma,500)\n",
        "intervalo = np.linspace(y1, y2, 100)\n",
        "f = Y.pdf(y)\n",
        "f_intervalo = Y.pdf(intervalo)\n",
        "plt.plot(y, f)\n",
        "plt.fill_between(intervalo, 0, f_intervalo)\n",
        "plt.title('Distribución Normal')\n",
        "plt.ylabel('f(y)')\n",
        "plt.xlabel('Valores de y')\n",
        "plt.show()"
      ],
      "metadata": {
        "colab": {
          "base_uri": "https://localhost:8080/",
          "height": 472
        },
        "id": "hcHdYb2std79",
        "outputId": "e929aa48-b09d-4a85-f289-5952b42a9dca"
      },
      "execution_count": 17,
      "outputs": [
        {
          "output_type": "display_data",
          "data": {
            "text/plain": [
              "<Figure size 640x480 with 1 Axes>"
            ],
            "image/png": "[encoded data removed]"
          },
          "metadata": {}
        }
      ]
    },
    {
      "cell_type": "code",
      "source": [
        "#P(-2<Z<2)\n",
        "Y = ss.norm(0, 1)\n",
        "Y.cdf(2) - Y.cdf(-2)"
      ],
      "metadata": {
        "colab": {
          "base_uri": "https://localhost:8080/",
          "height": 200
        },
        "id": "qEVT9P9dnv-o",
        "outputId": "dc262bbc-4bac-43b2-c9bb-074130d0b711"
      },
      "execution_count": 8,
      "outputs": [
        {
          "output_type": "error",
          "ename": "NameError",
          "evalue": "ignored",
          "traceback": [
            "\u001b[0;31m---------------------------------------------------------------------------\u001b[0m",
            "\u001b[0;31mNameError\u001b[0m                                 Traceback (most recent call last)",
            "\u001b[0;32m<ipython-input-8-d452f67d59cd>\u001b[0m in \u001b[0;36m<cell line: 2>\u001b[0;34m()\u001b[0m\n\u001b[1;32m      1\u001b[0m \u001b[0;31m#P(-2<Z<2)\u001b[0m\u001b[0;34m\u001b[0m\u001b[0;34m\u001b[0m\u001b[0m\n\u001b[0;32m----> 2\u001b[0;31m \u001b[0mY\u001b[0m \u001b[0;34m=\u001b[0m \u001b[0mss\u001b[0m\u001b[0;34m.\u001b[0m\u001b[0mnorm\u001b[0m\u001b[0;34m(\u001b[0m\u001b[0;36m0\u001b[0m\u001b[0;34m,\u001b[0m \u001b[0;36m1\u001b[0m\u001b[0;34m)\u001b[0m\u001b[0;34m\u001b[0m\u001b[0;34m\u001b[0m\u001b[0m\n\u001b[0m\u001b[1;32m      3\u001b[0m \u001b[0mY\u001b[0m\u001b[0;34m.\u001b[0m\u001b[0mcdf\u001b[0m\u001b[0;34m(\u001b[0m\u001b[0;36m2\u001b[0m\u001b[0;34m)\u001b[0m \u001b[0;34m-\u001b[0m \u001b[0mY\u001b[0m\u001b[0;34m.\u001b[0m\u001b[0mcdf\u001b[0m\u001b[0;34m(\u001b[0m\u001b[0;34m-\u001b[0m\u001b[0;36m2\u001b[0m\u001b[0;34m)\u001b[0m\u001b[0;34m\u001b[0m\u001b[0;34m\u001b[0m\u001b[0m\n",
            "\u001b[0;31mNameError\u001b[0m: name 'ss' is not defined"
          ]
        }
      ]
    },
    {
      "cell_type": "code",
      "source": [
        "mu = 0\n",
        "sigma = 1\n",
        "\n",
        "y1 = -2\n",
        "y2 = 2\n",
        "\n",
        "Y = ss.norm (mu, sigma)\n",
        "y = np.linspace(mu - 3.5*sigma, mu + 3.5*sigma,500)\n",
        "intervalo = np.linspace(y1, y2, 100)\n",
        "f = Y.pdf(y)\n",
        "f_intervalo = Y.pdf(intervalo)\n",
        "plt.plot(y, f)\n",
        "plt.fill_between(intervalo, 0, f_intervalo)\n",
        "plt.title('Distribución Normal')\n",
        "plt.ylabel('f(y)')\n",
        "plt.xlabel('Valores de y')\n",
        "plt.show()"
      ],
      "metadata": {
        "colab": {
          "base_uri": "https://localhost:8080/",
          "height": 235
        },
        "id": "vasEXtaatiYl",
        "outputId": "69baef8a-b3a4-497b-cdd9-58b4ea113352"
      },
      "execution_count": 7,
      "outputs": [
        {
          "output_type": "error",
          "ename": "NameError",
          "evalue": "ignored",
          "traceback": [
            "\u001b[0;31m---------------------------------------------------------------------------\u001b[0m",
            "\u001b[0;31mNameError\u001b[0m                                 Traceback (most recent call last)",
            "\u001b[0;32m<ipython-input-7-adab05707107>\u001b[0m in \u001b[0;36m<cell line: 7>\u001b[0;34m()\u001b[0m\n\u001b[1;32m      5\u001b[0m \u001b[0my2\u001b[0m \u001b[0;34m=\u001b[0m \u001b[0;36m2\u001b[0m\u001b[0;34m\u001b[0m\u001b[0;34m\u001b[0m\u001b[0m\n\u001b[1;32m      6\u001b[0m \u001b[0;34m\u001b[0m\u001b[0m\n\u001b[0;32m----> 7\u001b[0;31m \u001b[0mY\u001b[0m \u001b[0;34m=\u001b[0m \u001b[0mss\u001b[0m\u001b[0;34m.\u001b[0m\u001b[0mnorm\u001b[0m \u001b[0;34m(\u001b[0m\u001b[0mmu\u001b[0m\u001b[0;34m,\u001b[0m \u001b[0msigma\u001b[0m\u001b[0;34m)\u001b[0m\u001b[0;34m\u001b[0m\u001b[0;34m\u001b[0m\u001b[0m\n\u001b[0m\u001b[1;32m      8\u001b[0m \u001b[0my\u001b[0m \u001b[0;34m=\u001b[0m \u001b[0mnp\u001b[0m\u001b[0;34m.\u001b[0m\u001b[0mlinspace\u001b[0m\u001b[0;34m(\u001b[0m\u001b[0mmu\u001b[0m \u001b[0;34m-\u001b[0m \u001b[0;36m3.5\u001b[0m\u001b[0;34m*\u001b[0m\u001b[0msigma\u001b[0m\u001b[0;34m,\u001b[0m \u001b[0mmu\u001b[0m \u001b[0;34m+\u001b[0m \u001b[0;36m3.5\u001b[0m\u001b[0;34m*\u001b[0m\u001b[0msigma\u001b[0m\u001b[0;34m,\u001b[0m\u001b[0;36m500\u001b[0m\u001b[0;34m)\u001b[0m\u001b[0;34m\u001b[0m\u001b[0;34m\u001b[0m\u001b[0m\n\u001b[1;32m      9\u001b[0m \u001b[0mintervalo\u001b[0m \u001b[0;34m=\u001b[0m \u001b[0mnp\u001b[0m\u001b[0;34m.\u001b[0m\u001b[0mlinspace\u001b[0m\u001b[0;34m(\u001b[0m\u001b[0my1\u001b[0m\u001b[0;34m,\u001b[0m \u001b[0my2\u001b[0m\u001b[0;34m,\u001b[0m \u001b[0;36m100\u001b[0m\u001b[0;34m)\u001b[0m\u001b[0;34m\u001b[0m\u001b[0;34m\u001b[0m\u001b[0m\n",
            "\u001b[0;31mNameError\u001b[0m: name 'ss' is not defined"
          ]
        }
      ]
    },
    {
      "cell_type": "code",
      "source": [
        "#P(0<Z<1.73)\n",
        "Y = ss.norm(0, 1)\n",
        "Y.cdf(1.73) - Y.cdf(0)"
      ],
      "metadata": {
        "colab": {
          "base_uri": "https://localhost:8080/"
        },
        "id": "RHbmuwJioAZ3",
        "outputId": "03c0dd7d-3979-4c7b-8eb2-33129b3ad23b"
      },
      "execution_count": null,
      "outputs": [
        {
          "output_type": "execute_result",
          "data": {
            "text/plain": [
              "0.4581848623864051"
            ]
          },
          "metadata": {},
          "execution_count": 57
        }
      ]
    },
    {
      "cell_type": "code",
      "source": [
        "mu = 0\n",
        "sigma = 1\n",
        "\n",
        "y1 = 0\n",
        "y2 = 1.73\n",
        "\n",
        "Y = ss.norm(mu, sigma)\n",
        "y = np.linspace(mu - 3.5*sigma, mu + 3.5*sigma,500)\n",
        "intervalo = np.linspace(y1, y2, 100)\n",
        "f = Y.pdf(y)\n",
        "f_intervalo = Y.pdf(intervalo)\n",
        "plt.plot(y, f)\n",
        "plt.fill_between(intervalo, 0, f_intervalo)\n",
        "plt.title('Distribución Normal')\n",
        "plt.ylabel('f(y)')\n",
        "plt.xlabel('Valores de y')\n",
        "plt.show()"
      ],
      "metadata": {
        "colab": {
          "base_uri": "https://localhost:8080/",
          "height": 235
        },
        "id": "GcmvJjAvtmsI",
        "outputId": "9c79172b-15cc-4e65-dd81-0fe4e796c30b"
      },
      "execution_count": 2,
      "outputs": [
        {
          "output_type": "error",
          "ename": "NameError",
          "evalue": "ignored",
          "traceback": [
            "\u001b[0;31m---------------------------------------------------------------------------\u001b[0m",
            "\u001b[0;31mNameError\u001b[0m                                 Traceback (most recent call last)",
            "\u001b[0;32m<ipython-input-2-7d2ae4d18b6a>\u001b[0m in \u001b[0;36m<cell line: 7>\u001b[0;34m()\u001b[0m\n\u001b[1;32m      5\u001b[0m \u001b[0my2\u001b[0m \u001b[0;34m=\u001b[0m \u001b[0;36m1.73\u001b[0m\u001b[0;34m\u001b[0m\u001b[0;34m\u001b[0m\u001b[0m\n\u001b[1;32m      6\u001b[0m \u001b[0;34m\u001b[0m\u001b[0m\n\u001b[0;32m----> 7\u001b[0;31m \u001b[0mY\u001b[0m \u001b[0;34m=\u001b[0m \u001b[0mss\u001b[0m\u001b[0;34m.\u001b[0m\u001b[0mnorm\u001b[0m\u001b[0;34m(\u001b[0m\u001b[0mmu\u001b[0m\u001b[0;34m,\u001b[0m \u001b[0msigma\u001b[0m\u001b[0;34m)\u001b[0m\u001b[0;34m\u001b[0m\u001b[0;34m\u001b[0m\u001b[0m\n\u001b[0m\u001b[1;32m      8\u001b[0m \u001b[0my\u001b[0m \u001b[0;34m=\u001b[0m \u001b[0mnp\u001b[0m\u001b[0;34m.\u001b[0m\u001b[0mlinspace\u001b[0m\u001b[0;34m(\u001b[0m\u001b[0mmu\u001b[0m \u001b[0;34m-\u001b[0m \u001b[0;36m3.5\u001b[0m\u001b[0;34m*\u001b[0m\u001b[0msigma\u001b[0m\u001b[0;34m,\u001b[0m \u001b[0mmu\u001b[0m \u001b[0;34m+\u001b[0m \u001b[0;36m3.5\u001b[0m\u001b[0;34m*\u001b[0m\u001b[0msigma\u001b[0m\u001b[0;34m,\u001b[0m\u001b[0;36m500\u001b[0m\u001b[0;34m)\u001b[0m\u001b[0;34m\u001b[0m\u001b[0;34m\u001b[0m\u001b[0m\n\u001b[1;32m      9\u001b[0m \u001b[0mintervalo\u001b[0m \u001b[0;34m=\u001b[0m \u001b[0mnp\u001b[0m\u001b[0;34m.\u001b[0m\u001b[0mlinspace\u001b[0m\u001b[0;34m(\u001b[0m\u001b[0my1\u001b[0m\u001b[0;34m,\u001b[0m \u001b[0my2\u001b[0m\u001b[0;34m,\u001b[0m \u001b[0;36m100\u001b[0m\u001b[0;34m)\u001b[0m\u001b[0;34m\u001b[0m\u001b[0;34m\u001b[0m\u001b[0m\n",
            "\u001b[0;31mNameError\u001b[0m: name 'ss' is not defined"
          ]
        }
      ]
    },
    {
      "cell_type": "code",
      "source": [
        "#Normal sin área sombreada\n",
        "mu = 20\n",
        "sigma = 5\n",
        "Y = ss.norm(mu, sigma)\n",
        "y = np.linspace(mu - 3.5*sigma, mu + 3.5*sigma,500)\n",
        "f = Y.pdf(y)\n",
        "plt.plot(y, f)\n",
        "plt.title('Distribución Normal')\n",
        "plt.ylabel('f(y)')\n",
        "plt.xlabel('Valores de y')\n",
        "plt.show()"
      ],
      "metadata": {
        "colab": {
          "base_uri": "https://localhost:8080/",
          "height": 295
        },
        "id": "a-N2oCiIprKM",
        "outputId": "33942674-be33-4e25-9cbe-cea2ef1b5bf5"
      },
      "execution_count": null,
      "outputs": [
        {
          "output_type": "display_data",
          "data": {
            "text/plain": [
              "<Figure size 432x288 with 1 Axes>"
            ],
            "image/png": "[encoded data removed]"
          },
          "metadata": {
            "needs_background": "light"
          }
        }
      ]
    },
    {
      "cell_type": "markdown",
      "source": [
        "####**Ejemplo 2 (norm)**\n",
        "Las calificaciones para un examen de admisión a una universidad están normalmente distribuidas con media de 75 y desviación estándar 10. ¿Qué fracción de las calificaciones se encuentra entre 80 y 90?\n",
        "\n",
        "**Solución**\n",
        "\n",
        "Estandarizando, se tiene\n",
        "\n",
        "$$z=\\frac{y - \\mu}{\\sigma}$$\n",
        "\n",
        "por lo tanto, con $\\mu=75$ y $\\sigma=10$, se tiene que \n",
        "\n",
        "$$z_1=\\frac{80-75}{10}=0.5 \\quad \\text{y} \\quad z_2=\\frac{90-75}{10}=1.5$$\n",
        "\n",
        "Entonces\n",
        "\n",
        "$$P(80 \\le Y \\le 90) = P(0.5 \\le Z \\le 1.5) = F(Z = 1.5) - F(Z = 0.5) = 0.2417.$$\n",
        "\n",
        "Sin estandarizar, se puede realizar directamente\n",
        "\n",
        "$$P(80 \\le Y \\le 90) = F(Y = 90) - F(Y = 80) = 0.2417.$$"
      ],
      "metadata": {
        "id": "-s_nZHpye-2c"
      }
    },
    {
      "cell_type": "code",
      "source": [
        "mu = 75\n",
        "sigma = 10\n",
        "y1 = 80\n",
        "y2 = 90\n",
        "\n",
        "Y = ss.norm(mu, sigma)\n",
        "Y.cdf(y2) - Y.cdf(y1)"
      ],
      "metadata": {
        "colab": {
          "base_uri": "https://localhost:8080/"
        },
        "id": "7XmKo5sqdmsD",
        "outputId": "f96c9ee5-0aaa-4c1a-c84e-8d4c7d1b2cea"
      },
      "execution_count": null,
      "outputs": [
        {
          "output_type": "execute_result",
          "data": {
            "text/plain": [
              "0.2417303374571288"
            ]
          },
          "metadata": {},
          "execution_count": 120
        }
      ]
    },
    {
      "cell_type": "code",
      "source": [
        "mu = 15\n",
        "sigma = 2\n",
        "\n",
        "y1 = 16\n",
        "y2 = 20\n",
        "\n",
        "Y = ss.norm(mu, sigma)\n",
        "y = np.linspace(mu - 3.5*sigma, mu + 3.5*sigma,500)\n",
        "intervalo = np.linspace(y1, y2, 100)\n",
        "f = Y.pdf(y)\n",
        "f_intervalo = Y.pdf(intervalo)\n",
        "plt.plot(y, f)\n",
        "plt.fill_between(intervalo, 0, f_intervalo)\n",
        "plt.title('Distribución Normal')\n",
        "plt.ylabel('f(y)')\n",
        "plt.xlabel('Valores de y')\n",
        "plt.show()"
      ],
      "metadata": {
        "colab": {
          "base_uri": "https://localhost:8080/",
          "height": 472
        },
        "id": "jaW9DzEXdqlS",
        "outputId": "9402e2bf-6cec-41df-e5e2-6bf7eb2516ff"
      },
      "execution_count": 18,
      "outputs": [
        {
          "output_type": "display_data",
          "data": {
            "text/plain": [
              "<Figure size 640x480 with 1 Axes>"
            ],
            "image/png": "[encoded data removed]"
          },
          "metadata": {}
        }
      ]
    }
  ]
}